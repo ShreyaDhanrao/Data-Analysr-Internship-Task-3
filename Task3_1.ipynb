{
 "cells": [
  {
   "cell_type": "code",
   "execution_count": 1,
   "id": "a0eb962c-402f-472d-ace7-454bf1a38949",
   "metadata": {},
   "outputs": [
    {
     "name": "stdout",
     "output_type": "stream",
     "text": [
      "    Loan_ID Gender Married Dependents     Education Self_Employed  \\\n",
      "0  LP001015   Male     Yes          0      Graduate            No   \n",
      "1  LP001022   Male     Yes          1      Graduate            No   \n",
      "2  LP001031   Male     Yes          2      Graduate            No   \n",
      "3  LP001035   Male     Yes          2      Graduate            No   \n",
      "4  LP001051   Male      No          0  Not Graduate            No   \n",
      "\n",
      "   ApplicantIncome  CoapplicantIncome  LoanAmount  Loan_Amount_Term  \\\n",
      "0             5720                  0       110.0             360.0   \n",
      "1             3076               1500       126.0             360.0   \n",
      "2             5000               1800       208.0             360.0   \n",
      "3             2340               2546       100.0             360.0   \n",
      "4             3276                  0        78.0             360.0   \n",
      "\n",
      "   Credit_History Property_Area  \n",
      "0             1.0         Urban  \n",
      "1             1.0         Urban  \n",
      "2             1.0         Urban  \n",
      "3             NaN         Urban  \n",
      "4             1.0         Urban  \n"
     ]
    }
   ],
   "source": [
    "import pandas as pd\n",
    "\n",
    "\n",
    "df = pd.read_csv('Loan.csv')\n",
    "\n",
    "\n",
    "print(df.head())\n",
    "\n"
   ]
  },
  {
   "cell_type": "code",
   "execution_count": 2,
   "id": "9c561d20-5ff6-446e-8787-abb0377943ee",
   "metadata": {},
   "outputs": [
    {
     "name": "stdout",
     "output_type": "stream",
     "text": [
      "<class 'pandas.core.frame.DataFrame'>\n",
      "RangeIndex: 367 entries, 0 to 366\n",
      "Data columns (total 12 columns):\n",
      " #   Column             Non-Null Count  Dtype  \n",
      "---  ------             --------------  -----  \n",
      " 0   Loan_ID            367 non-null    object \n",
      " 1   Gender             356 non-null    object \n",
      " 2   Married            367 non-null    object \n",
      " 3   Dependents         357 non-null    object \n",
      " 4   Education          367 non-null    object \n",
      " 5   Self_Employed      344 non-null    object \n",
      " 6   ApplicantIncome    367 non-null    int64  \n",
      " 7   CoapplicantIncome  367 non-null    int64  \n",
      " 8   LoanAmount         362 non-null    float64\n",
      " 9   Loan_Amount_Term   361 non-null    float64\n",
      " 10  Credit_History     338 non-null    float64\n",
      " 11  Property_Area      367 non-null    object \n",
      "dtypes: float64(3), int64(2), object(7)\n",
      "memory usage: 34.5+ KB\n",
      "None\n"
     ]
    }
   ],
   "source": [
    "print(df.info())\n"
   ]
  },
  {
   "cell_type": "code",
   "execution_count": 3,
   "id": "139fe700-1d62-4c4b-864f-b58f73da35d3",
   "metadata": {},
   "outputs": [
    {
     "name": "stdout",
     "output_type": "stream",
     "text": [
      "         Loan_ID Gender Married Dependents Education Self_Employed  \\\n",
      "count        367    356     367        357       367           344   \n",
      "unique       367      2       2          4         2             2   \n",
      "top     LP001015   Male     Yes          0  Graduate            No   \n",
      "freq           1    286     233        200       283           307   \n",
      "mean         NaN    NaN     NaN        NaN       NaN           NaN   \n",
      "std          NaN    NaN     NaN        NaN       NaN           NaN   \n",
      "min          NaN    NaN     NaN        NaN       NaN           NaN   \n",
      "25%          NaN    NaN     NaN        NaN       NaN           NaN   \n",
      "50%          NaN    NaN     NaN        NaN       NaN           NaN   \n",
      "75%          NaN    NaN     NaN        NaN       NaN           NaN   \n",
      "max          NaN    NaN     NaN        NaN       NaN           NaN   \n",
      "\n",
      "        ApplicantIncome  CoapplicantIncome  LoanAmount  Loan_Amount_Term  \\\n",
      "count        367.000000         367.000000  362.000000        361.000000   \n",
      "unique              NaN                NaN         NaN               NaN   \n",
      "top                 NaN                NaN         NaN               NaN   \n",
      "freq                NaN                NaN         NaN               NaN   \n",
      "mean        4805.599455        1569.577657  136.132597        342.537396   \n",
      "std         4910.685399        2334.232099   61.366652         65.156643   \n",
      "min            0.000000           0.000000   28.000000          6.000000   \n",
      "25%         2864.000000           0.000000  100.250000        360.000000   \n",
      "50%         3786.000000        1025.000000  125.000000        360.000000   \n",
      "75%         5060.000000        2430.500000  158.000000        360.000000   \n",
      "max        72529.000000       24000.000000  550.000000        480.000000   \n",
      "\n",
      "        Credit_History Property_Area  \n",
      "count       338.000000           367  \n",
      "unique             NaN             3  \n",
      "top                NaN         Urban  \n",
      "freq               NaN           140  \n",
      "mean          0.825444           NaN  \n",
      "std           0.380150           NaN  \n",
      "min           0.000000           NaN  \n",
      "25%           1.000000           NaN  \n",
      "50%           1.000000           NaN  \n",
      "75%           1.000000           NaN  \n",
      "max           1.000000           NaN  \n"
     ]
    }
   ],
   "source": [
    "print(df.describe(include='all'))"
   ]
  },
  {
   "cell_type": "code",
   "execution_count": 4,
   "id": "ca175ea4-7121-4f4f-a0a9-46bfa30bef28",
   "metadata": {},
   "outputs": [
    {
     "name": "stdout",
     "output_type": "stream",
     "text": [
      "Missing Values:\n",
      " Loan_ID               0\n",
      "Gender               11\n",
      "Married               0\n",
      "Dependents           10\n",
      "Education             0\n",
      "Self_Employed        23\n",
      "ApplicantIncome       0\n",
      "CoapplicantIncome     0\n",
      "LoanAmount            5\n",
      "Loan_Amount_Term      6\n",
      "Credit_History       29\n",
      "Property_Area         0\n",
      "dtype: int64\n"
     ]
    }
   ],
   "source": [
    "\n",
    "missing_values = df.isnull().sum()\n",
    "print(\"Missing Values:\\n\", missing_values)\n",
    "\n",
    "\n",
    "df.fillna(df.mean(numeric_only=True), inplace=True)\n",
    "df.fillna(df.mode().iloc[0], inplace=True)\n",
    "removed_missing_values=df.isnull().sum()\n"
   ]
  },
  {
   "cell_type": "code",
   "execution_count": 5,
   "id": "9d28b4c9-84af-4d69-8f64-ce42a3a1d90c",
   "metadata": {},
   "outputs": [
    {
     "name": "stdout",
     "output_type": "stream",
     "text": [
      "Duplicate Records: 0\n"
     ]
    }
   ],
   "source": [
    "\n",
    "duplicates = df.duplicated().sum()\n",
    "print(f\"Duplicate Records: {duplicates}\")\n",
    "\n",
    "df.drop_duplicates(inplace=True)\n"
   ]
  },
  {
   "cell_type": "code",
   "execution_count": 6,
   "id": "8827f66a-b4e3-4a59-a807-25e79ec4c321",
   "metadata": {},
   "outputs": [
    {
     "name": "stderr",
     "output_type": "stream",
     "text": [
      "C:\\Users\\admin\\AppData\\Local\\Temp\\ipykernel_19536\\3456982513.py:4: UserWarning: Could not infer format, so each element will be parsed individually, falling back to `dateutil`. To ensure parsing is consistent and as-expected, please specify a format.\n",
      "  df[col] = pd.to_datetime(df[col])\n",
      "C:\\Users\\admin\\AppData\\Local\\Temp\\ipykernel_19536\\3456982513.py:4: UserWarning: Could not infer format, so each element will be parsed individually, falling back to `dateutil`. To ensure parsing is consistent and as-expected, please specify a format.\n",
      "  df[col] = pd.to_datetime(df[col])\n",
      "C:\\Users\\admin\\AppData\\Local\\Temp\\ipykernel_19536\\3456982513.py:4: UserWarning: Could not infer format, so each element will be parsed individually, falling back to `dateutil`. To ensure parsing is consistent and as-expected, please specify a format.\n",
      "  df[col] = pd.to_datetime(df[col])\n",
      "C:\\Users\\admin\\AppData\\Local\\Temp\\ipykernel_19536\\3456982513.py:4: UserWarning: Could not infer format, so each element will be parsed individually, falling back to `dateutil`. To ensure parsing is consistent and as-expected, please specify a format.\n",
      "  df[col] = pd.to_datetime(df[col])\n",
      "C:\\Users\\admin\\AppData\\Local\\Temp\\ipykernel_19536\\3456982513.py:4: UserWarning: Could not infer format, so each element will be parsed individually, falling back to `dateutil`. To ensure parsing is consistent and as-expected, please specify a format.\n",
      "  df[col] = pd.to_datetime(df[col])\n",
      "C:\\Users\\admin\\AppData\\Local\\Temp\\ipykernel_19536\\3456982513.py:4: UserWarning: Could not infer format, so each element will be parsed individually, falling back to `dateutil`. To ensure parsing is consistent and as-expected, please specify a format.\n",
      "  df[col] = pd.to_datetime(df[col])\n",
      "C:\\Users\\admin\\AppData\\Local\\Temp\\ipykernel_19536\\3456982513.py:4: UserWarning: Could not infer format, so each element will be parsed individually, falling back to `dateutil`. To ensure parsing is consistent and as-expected, please specify a format.\n",
      "  df[col] = pd.to_datetime(df[col])\n"
     ]
    }
   ],
   "source": [
    "\n",
    "for col in df.columns:\n",
    "    if df[col].dtype == 'object':\n",
    "        try:\n",
    "            df[col] = pd.to_datetime(df[col])\n",
    "            print(f\"Converted {col} to datetime.\")\n",
    "        except:\n",
    "            try:\n",
    "                df[col] = pd.to_numeric(df[col])\n",
    "                print(f\"Converted {col} to numeric.\")\n",
    "            except:\n",
    "                continue \n"
   ]
  },
  {
   "cell_type": "code",
   "execution_count": 7,
   "id": "af925476-689b-4f7b-83f0-351738bbf0b5",
   "metadata": {},
   "outputs": [
    {
     "name": "stdout",
     "output_type": "stream",
     "text": [
      "(210, 12)\n"
     ]
    }
   ],
   "source": [
    "\n",
    "numeric_cols = df.select_dtypes(include=['number'])\n",
    "\n",
    "\n",
    "Q1 = numeric_cols.quantile(0.25)\n",
    "Q3 = numeric_cols.quantile(0.75)\n",
    "IQR = Q3 - Q1\n",
    "\n",
    "\n",
    "non_outlier_mask = ~((numeric_cols < (Q1 - 1.5 * IQR)) | (numeric_cols > (Q3 + 1.5 * IQR))).any(axis=1)\n",
    "\n",
    "\n",
    "df = df[non_outlier_mask]\n",
    "\n",
    "\n",
    "df.reset_index(drop=True, inplace=True)\n",
    "\n",
    "print(df.shape)"
   ]
  },
  {
   "cell_type": "code",
   "execution_count": 8,
   "id": "13b4d80b-7440-4855-a9df-0a84e5ff4587",
   "metadata": {},
   "outputs": [],
   "source": [
    "from sklearn.preprocessing import StandardScaler\n",
    "\n",
    "numeric_cols = df.select_dtypes(include=['int64', 'float64']).columns\n",
    "\n",
    "\n",
    "scaler = StandardScaler()\n",
    "df[numeric_cols] = scaler.fit_transform(df[numeric_cols])\n"
   ]
  },
  {
   "cell_type": "code",
   "execution_count": 9,
   "id": "3edd6863-f0da-476e-9aec-00879304420a",
   "metadata": {},
   "outputs": [
    {
     "name": "stdout",
     "output_type": "stream",
     "text": [
      "Warning: Negative values found in ApplicantIncome\n",
      "Warning: Negative values found in CoapplicantIncome\n",
      "Warning: Negative values found in LoanAmount\n"
     ]
    }
   ],
   "source": [
    "\n",
    "for col in numeric_cols:\n",
    "    if (df[col] < 0).any():\n",
    "        print(f\"Warning: Negative values found in {col}\")\n",
    "     \n",
    "        df = df[df[col] >= 0]\n"
   ]
  },
  {
   "cell_type": "markdown",
   "id": "14d56cfc-ac67-488f-b083-9b8a963a3a84",
   "metadata": {},
   "source": [
    "#Summary of Cleaning Steps Performed\n",
    "Loaded the dataset and inspected structure and summary stats.\n",
    "\n",
    "Identified and handled missing values using mean/mode imputation.\n",
    "\n",
    "Removed duplicate records.\n",
    "\n",
    "Converted object-type columns to datetime or numeric if applicable.\n",
    "\n",
    "Detected and removed outliers using IQR method.\n",
    "\n",
    "Standardized all numerical features using StandardScaler.\n",
    "\n",
    "Performed basic validation for negative values in numerical fields."
   ]
  },
  {
   "cell_type": "code",
   "execution_count": null,
   "id": "91af023e-e361-4500-85eb-b28811218583",
   "metadata": {},
   "outputs": [],
   "source": []
  },
  {
   "cell_type": "code",
   "execution_count": null,
   "id": "d7d1076c-e16a-4b17-80f2-72956209132c",
   "metadata": {},
   "outputs": [],
   "source": []
  }
 ],
 "metadata": {
  "kernelspec": {
   "display_name": "Python 3 (ipykernel)",
   "language": "python",
   "name": "python3"
  },
  "language_info": {
   "codemirror_mode": {
    "name": "ipython",
    "version": 3
   },
   "file_extension": ".py",
   "mimetype": "text/x-python",
   "name": "python",
   "nbconvert_exporter": "python",
   "pygments_lexer": "ipython3",
   "version": "3.8.0"
  }
 },
 "nbformat": 4,
 "nbformat_minor": 5
}
